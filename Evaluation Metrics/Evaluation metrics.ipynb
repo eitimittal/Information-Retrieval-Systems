{
 "cells": [
  {
   "cell_type": "code",
   "execution_count": 1,
   "metadata": {},
   "outputs": [],
   "source": [
    "import math\n",
    "from sklearn.feature_extraction.text import TfidfVectorizer"
   ]
  },
  {
   "cell_type": "code",
   "execution_count": 2,
   "metadata": {},
   "outputs": [],
   "source": [
    "c1= 'Human machine interface for, Lab ABC computer applications'\n",
    "c2=' A survey of user opinion. of computer system response time'\n",
    "c3=' The EPS user interface, management system'\n",
    "c4='System and human system, engineering testing of EPS'\n",
    "c5=' Relation of user-perceived response time to error measurement'\n",
    "m1= 'The generation of random, binary, unordered trees'\n",
    "m2= 'The intersection graph, of paths in trees'\n",
    "m3= 'Graph minors IV: Widths of trees and well-quasi-ordering'\n",
    "m4=' Graph minors: A survey'\n",
    "query='Human-based review of computer systems'\n"
   ]
  },
  {
   "cell_type": "code",
   "execution_count": 31,
   "metadata": {},
   "outputs": [
    {
     "data": {
      "text/plain": [
       "array([[0.38266955, 0.        , 0.38266955, 0.        , 0.        ,\n",
       "        0.28460263, 0.        , 0.        , 0.        , 0.38266955,\n",
       "        0.        , 0.        , 0.28460263, 0.        , 0.32530408,\n",
       "        0.        , 0.        , 0.38266955, 0.38266955, 0.        ,\n",
       "        0.        , 0.        , 0.        , 0.        , 0.        ,\n",
       "        0.        , 0.        , 0.        , 0.        , 0.        ,\n",
       "        0.        , 0.        , 0.        , 0.        , 0.        ,\n",
       "        0.        , 0.        , 0.        , 0.        , 0.        ,\n",
       "        0.        , 0.        , 0.        , 0.        ],\n",
       "       [0.        , 0.        , 0.        , 0.        , 0.        ,\n",
       "        0.30940873, 0.        , 0.        , 0.        , 0.        ,\n",
       "        0.        , 0.        , 0.        , 0.        , 0.        ,\n",
       "        0.        , 0.        , 0.        , 0.        , 0.        ,\n",
       "        0.        , 0.        , 0.40558849, 0.41602321, 0.        ,\n",
       "        0.        , 0.        , 0.        , 0.        , 0.        ,\n",
       "        0.35365774, 0.        , 0.35365774, 0.30940873, 0.        ,\n",
       "        0.        , 0.        , 0.35365774, 0.        , 0.        ,\n",
       "        0.        , 0.30940873, 0.        , 0.        ],\n",
       "       [0.        , 0.        , 0.        , 0.        , 0.        ,\n",
       "        0.        , 0.        , 0.41958919, 0.        , 0.        ,\n",
       "        0.        , 0.        , 0.        , 0.        , 0.41958919,\n",
       "        0.        , 0.        , 0.        , 0.        , 0.49358129,\n",
       "        0.        , 0.        , 0.        , 0.        , 0.        ,\n",
       "        0.        , 0.        , 0.        , 0.        , 0.        ,\n",
       "        0.        , 0.        , 0.        , 0.36709096, 0.        ,\n",
       "        0.        , 0.36709096, 0.        , 0.        , 0.        ,\n",
       "        0.        , 0.36709096, 0.        , 0.        ],\n",
       "       [0.        , 0.33475962, 0.        , 0.        , 0.        ,\n",
       "        0.        , 0.39379252, 0.33475962, 0.        , 0.        ,\n",
       "        0.        , 0.        , 0.29287511, 0.        , 0.        ,\n",
       "        0.        , 0.        , 0.        , 0.        , 0.        ,\n",
       "        0.        , 0.        , 0.1919577 , 0.        , 0.        ,\n",
       "        0.        , 0.        , 0.        , 0.        , 0.        ,\n",
       "        0.        , 0.        , 0.        , 0.58575022, 0.        ,\n",
       "        0.39379252, 0.        , 0.        , 0.        , 0.        ,\n",
       "        0.        , 0.        , 0.        , 0.        ],\n",
       "       [0.        , 0.        , 0.        , 0.        , 0.        ,\n",
       "        0.        , 0.        , 0.        , 0.37174823, 0.        ,\n",
       "        0.        , 0.        , 0.        , 0.        , 0.        ,\n",
       "        0.        , 0.        , 0.        , 0.        , 0.        ,\n",
       "        0.37174823, 0.        , 0.18121201, 0.        , 0.        ,\n",
       "        0.        , 0.37174823, 0.        , 0.        , 0.37174823,\n",
       "        0.31601996, 0.        , 0.        , 0.        , 0.        ,\n",
       "        0.        , 0.        , 0.31601996, 0.37174823, 0.        ,\n",
       "        0.        , 0.27648012, 0.        , 0.        ],\n",
       "       [0.        , 0.        , 0.        , 0.        , 0.43258506,\n",
       "        0.        , 0.        , 0.        , 0.        , 0.        ,\n",
       "        0.43258506, 0.        , 0.        , 0.        , 0.        ,\n",
       "        0.        , 0.        , 0.        , 0.        , 0.        ,\n",
       "        0.        , 0.        , 0.21086747, 0.        , 0.        ,\n",
       "        0.        , 0.        , 0.        , 0.43258506, 0.        ,\n",
       "        0.        , 0.        , 0.        , 0.        , 0.        ,\n",
       "        0.        , 0.32172626, 0.        , 0.        , 0.32172626,\n",
       "        0.43258506, 0.        , 0.        , 0.        ],\n",
       "       [0.        , 0.        , 0.        , 0.        , 0.        ,\n",
       "        0.        , 0.        , 0.        , 0.        , 0.        ,\n",
       "        0.        , 0.33608505, 0.        , 0.45189153, 0.        ,\n",
       "        0.45189153, 0.        , 0.        , 0.        , 0.        ,\n",
       "        0.        , 0.        , 0.22027858, 0.        , 0.        ,\n",
       "        0.45189153, 0.        , 0.        , 0.        , 0.        ,\n",
       "        0.        , 0.        , 0.        , 0.        , 0.        ,\n",
       "        0.        , 0.33608505, 0.        , 0.        , 0.33608505,\n",
       "        0.        , 0.        , 0.        , 0.        ],\n",
       "       [0.        , 0.3045926 , 0.        , 0.        , 0.        ,\n",
       "        0.        , 0.        , 0.        , 0.        , 0.        ,\n",
       "        0.        , 0.26648253, 0.        , 0.        , 0.        ,\n",
       "        0.        , 0.35830572, 0.        , 0.        , 0.        ,\n",
       "        0.        , 0.3045926 , 0.17465934, 0.        , 0.35830572,\n",
       "        0.        , 0.        , 0.35830572, 0.        , 0.        ,\n",
       "        0.        , 0.        , 0.        , 0.        , 0.        ,\n",
       "        0.        , 0.        , 0.        , 0.        , 0.26648253,\n",
       "        0.        , 0.        , 0.35830572, 0.35830572],\n",
       "       [0.        , 0.        , 0.        , 0.        , 0.        ,\n",
       "        0.        , 0.        , 0.        , 0.        , 0.        ,\n",
       "        0.        , 0.52610083, 0.        , 0.        , 0.        ,\n",
       "        0.        , 0.        , 0.        , 0.        , 0.        ,\n",
       "        0.        , 0.6013393 , 0.        , 0.        , 0.        ,\n",
       "        0.        , 0.        , 0.        , 0.        , 0.        ,\n",
       "        0.        , 0.        , 0.6013393 , 0.        , 0.        ,\n",
       "        0.        , 0.        , 0.        , 0.        , 0.        ,\n",
       "        0.        , 0.        , 0.        , 0.        ],\n",
       "       [0.        , 0.        , 0.        , 0.47980075, 0.        ,\n",
       "        0.35684197, 0.        , 0.        , 0.        , 0.        ,\n",
       "        0.        , 0.        , 0.35684197, 0.        , 0.        ,\n",
       "        0.        , 0.        , 0.        , 0.        , 0.        ,\n",
       "        0.        , 0.        , 0.23388318, 0.        , 0.        ,\n",
       "        0.        , 0.        , 0.        , 0.        , 0.        ,\n",
       "        0.        , 0.47980075, 0.        , 0.        , 0.47980075,\n",
       "        0.        , 0.        , 0.        , 0.        , 0.        ,\n",
       "        0.        , 0.        , 0.        , 0.        ]])"
      ]
     },
     "execution_count": 31,
     "metadata": {},
     "output_type": "execute_result"
    }
   ],
   "source": [
    "vectorize= TfidfVectorizer()\n",
    "#fitting the model and passing our sentences right away:\n",
    "response= vectorize.fit_transform([c1,c2,c3,c4,c5,m1,m2,m3,m4,query])\n",
    "response.toarray()\n"
   ]
  },
  {
   "cell_type": "code",
   "execution_count": 27,
   "metadata": {},
   "outputs": [
    {
     "name": "stdout",
     "output_type": "stream",
     "text": [
      "[[0.20311632]]\n",
      "[[0.20527035]]\n",
      "[[0.]]\n",
      "[[0.14940581]]\n",
      "[[0.04238244]]\n",
      "[[0.04931835]]\n",
      "[[0.05151946]]\n",
      "[[0.04084988]]\n",
      "[[0.]]\n"
     ]
    }
   ],
   "source": [
    "from sklearn.metrics.pairwise import cosine_similarity\n",
    "print(cosine_similarity(response[0], response[9]))\n",
    "print(cosine_similarity(response[1], response[9]))\n",
    "print(cosine_similarity(response[2], response[9]))\n",
    "print(cosine_similarity(response[3], response[9]))\n",
    "print(cosine_similarity(response[4], response[9]))\n",
    "print(cosine_similarity(response[5], response[9]))\n",
    "print(cosine_similarity(response[6], response[9]))\n",
    "print(cosine_similarity(response[7], response[9]))\n",
    "print(cosine_similarity(response[8], response[9]))\n"
   ]
  },
  {
   "cell_type": "code",
   "execution_count": 28,
   "metadata": {},
   "outputs": [],
   "source": [
    "relevance=[1,1,0,1,1,1,1,1,0]\n"
   ]
  },
  {
   "cell_type": "code",
   "execution_count": 34,
   "metadata": {},
   "outputs": [
    {
     "name": "stdout",
     "output_type": "stream",
     "text": [
      "PRECISION [1.0, 1.0, 0.6666666666666666, 0.75, 0.8, 0.8333333333333334, 0.8571428571428571, 0.875, 0.7777777777777778]\n",
      "RECALL [0.14285714285714285, 0.2857142857142857, 0.2857142857142857, 0.42857142857142855, 0.5714285714285714, 0.7142857142857143, 0.8571428571428571, 1.0, 1.0]\n"
     ]
    }
   ],
   "source": [
    "total=9\n",
    "relevance_seq=[1,1,0,1,1,1,1,1,0]\n",
    "relevant=0\n",
    "total=0\n",
    "relevant_X=7\n",
    "precision=[]\n",
    "recall=[]\n",
    "j=1\n",
    "for i in relevance_seq:\n",
    "    if(i==1):\n",
    "        relevant+=1\n",
    "    precision.append(relevant/j)\n",
    "    recall.append(relevant/7)\n",
    "    j+=1\n",
    "print(\"PRECISION\",precision)\n",
    "print(\"RECALL\",recall)"
   ]
  },
  {
   "cell_type": "code",
   "execution_count": 36,
   "metadata": {},
   "outputs": [
    {
     "data": {
      "text/plain": [
       "0.8750000000000001"
      ]
     },
     "execution_count": 36,
     "metadata": {},
     "output_type": "execute_result"
    }
   ],
   "source": [
    "for i in range (9):\n",
    "    F1 = 2*((precision[i]*recall[i])/(precision[i]+recall[i]))\n",
    "F1"
   ]
  },
  {
   "cell_type": "code",
   "execution_count": null,
   "metadata": {},
   "outputs": [],
   "source": [
    "#XYZ"
   ]
  },
  {
   "cell_type": "code",
   "execution_count": 37,
   "metadata": {},
   "outputs": [],
   "source": [
    "m1='The generation of random, binary, unordered trees'\n",
    "m2='The intersection graph, of paths in trees'\n",
    "m3= 'Graph minors IV: Widths of trees and well-quasi-ordering'\n",
    "m4= 'Graph minors: A survey'\n",
    "c1= 'Human machine interface for, Lab ABC computer applications'\n",
    "c2= 'A survey of user opinion. of computer system response time'\n",
    "c3= 'The EPS user interface, management system'\n",
    "c4= 'System and human system, engineering testing of EPS'\n",
    "c5= 'Relation of user-perceived response time to error measurement'"
   ]
  },
  {
   "cell_type": "code",
   "execution_count": 38,
   "metadata": {},
   "outputs": [
    {
     "data": {
      "text/plain": [
       "array([[0.38266955, 0.        , 0.38266955, 0.        , 0.        ,\n",
       "        0.28460263, 0.        , 0.        , 0.        , 0.38266955,\n",
       "        0.        , 0.        , 0.28460263, 0.        , 0.32530408,\n",
       "        0.        , 0.        , 0.38266955, 0.38266955, 0.        ,\n",
       "        0.        , 0.        , 0.        , 0.        , 0.        ,\n",
       "        0.        , 0.        , 0.        , 0.        , 0.        ,\n",
       "        0.        , 0.        , 0.        , 0.        , 0.        ,\n",
       "        0.        , 0.        , 0.        , 0.        , 0.        ,\n",
       "        0.        , 0.        , 0.        , 0.        ],\n",
       "       [0.        , 0.        , 0.        , 0.        , 0.        ,\n",
       "        0.30940873, 0.        , 0.        , 0.        , 0.        ,\n",
       "        0.        , 0.        , 0.        , 0.        , 0.        ,\n",
       "        0.        , 0.        , 0.        , 0.        , 0.        ,\n",
       "        0.        , 0.        , 0.40558849, 0.41602321, 0.        ,\n",
       "        0.        , 0.        , 0.        , 0.        , 0.        ,\n",
       "        0.35365774, 0.        , 0.35365774, 0.30940873, 0.        ,\n",
       "        0.        , 0.        , 0.35365774, 0.        , 0.        ,\n",
       "        0.        , 0.30940873, 0.        , 0.        ],\n",
       "       [0.        , 0.        , 0.        , 0.        , 0.        ,\n",
       "        0.        , 0.        , 0.41958919, 0.        , 0.        ,\n",
       "        0.        , 0.        , 0.        , 0.        , 0.41958919,\n",
       "        0.        , 0.        , 0.        , 0.        , 0.49358129,\n",
       "        0.        , 0.        , 0.        , 0.        , 0.        ,\n",
       "        0.        , 0.        , 0.        , 0.        , 0.        ,\n",
       "        0.        , 0.        , 0.        , 0.36709096, 0.        ,\n",
       "        0.        , 0.36709096, 0.        , 0.        , 0.        ,\n",
       "        0.        , 0.36709096, 0.        , 0.        ],\n",
       "       [0.        , 0.33475962, 0.        , 0.        , 0.        ,\n",
       "        0.        , 0.39379252, 0.33475962, 0.        , 0.        ,\n",
       "        0.        , 0.        , 0.29287511, 0.        , 0.        ,\n",
       "        0.        , 0.        , 0.        , 0.        , 0.        ,\n",
       "        0.        , 0.        , 0.1919577 , 0.        , 0.        ,\n",
       "        0.        , 0.        , 0.        , 0.        , 0.        ,\n",
       "        0.        , 0.        , 0.        , 0.58575022, 0.        ,\n",
       "        0.39379252, 0.        , 0.        , 0.        , 0.        ,\n",
       "        0.        , 0.        , 0.        , 0.        ],\n",
       "       [0.        , 0.        , 0.        , 0.        , 0.        ,\n",
       "        0.        , 0.        , 0.        , 0.37174823, 0.        ,\n",
       "        0.        , 0.        , 0.        , 0.        , 0.        ,\n",
       "        0.        , 0.        , 0.        , 0.        , 0.        ,\n",
       "        0.37174823, 0.        , 0.18121201, 0.        , 0.        ,\n",
       "        0.        , 0.37174823, 0.        , 0.        , 0.37174823,\n",
       "        0.31601996, 0.        , 0.        , 0.        , 0.        ,\n",
       "        0.        , 0.        , 0.31601996, 0.37174823, 0.        ,\n",
       "        0.        , 0.27648012, 0.        , 0.        ],\n",
       "       [0.        , 0.        , 0.        , 0.        , 0.43258506,\n",
       "        0.        , 0.        , 0.        , 0.        , 0.        ,\n",
       "        0.43258506, 0.        , 0.        , 0.        , 0.        ,\n",
       "        0.        , 0.        , 0.        , 0.        , 0.        ,\n",
       "        0.        , 0.        , 0.21086747, 0.        , 0.        ,\n",
       "        0.        , 0.        , 0.        , 0.43258506, 0.        ,\n",
       "        0.        , 0.        , 0.        , 0.        , 0.        ,\n",
       "        0.        , 0.32172626, 0.        , 0.        , 0.32172626,\n",
       "        0.43258506, 0.        , 0.        , 0.        ],\n",
       "       [0.        , 0.        , 0.        , 0.        , 0.        ,\n",
       "        0.        , 0.        , 0.        , 0.        , 0.        ,\n",
       "        0.        , 0.33608505, 0.        , 0.45189153, 0.        ,\n",
       "        0.45189153, 0.        , 0.        , 0.        , 0.        ,\n",
       "        0.        , 0.        , 0.22027858, 0.        , 0.        ,\n",
       "        0.45189153, 0.        , 0.        , 0.        , 0.        ,\n",
       "        0.        , 0.        , 0.        , 0.        , 0.        ,\n",
       "        0.        , 0.33608505, 0.        , 0.        , 0.33608505,\n",
       "        0.        , 0.        , 0.        , 0.        ],\n",
       "       [0.        , 0.3045926 , 0.        , 0.        , 0.        ,\n",
       "        0.        , 0.        , 0.        , 0.        , 0.        ,\n",
       "        0.        , 0.26648253, 0.        , 0.        , 0.        ,\n",
       "        0.        , 0.35830572, 0.        , 0.        , 0.        ,\n",
       "        0.        , 0.3045926 , 0.17465934, 0.        , 0.35830572,\n",
       "        0.        , 0.        , 0.35830572, 0.        , 0.        ,\n",
       "        0.        , 0.        , 0.        , 0.        , 0.        ,\n",
       "        0.        , 0.        , 0.        , 0.        , 0.26648253,\n",
       "        0.        , 0.        , 0.35830572, 0.35830572],\n",
       "       [0.        , 0.        , 0.        , 0.        , 0.        ,\n",
       "        0.        , 0.        , 0.        , 0.        , 0.        ,\n",
       "        0.        , 0.52610083, 0.        , 0.        , 0.        ,\n",
       "        0.        , 0.        , 0.        , 0.        , 0.        ,\n",
       "        0.        , 0.6013393 , 0.        , 0.        , 0.        ,\n",
       "        0.        , 0.        , 0.        , 0.        , 0.        ,\n",
       "        0.        , 0.        , 0.6013393 , 0.        , 0.        ,\n",
       "        0.        , 0.        , 0.        , 0.        , 0.        ,\n",
       "        0.        , 0.        , 0.        , 0.        ],\n",
       "       [0.        , 0.        , 0.        , 0.47980075, 0.        ,\n",
       "        0.35684197, 0.        , 0.        , 0.        , 0.        ,\n",
       "        0.        , 0.        , 0.35684197, 0.        , 0.        ,\n",
       "        0.        , 0.        , 0.        , 0.        , 0.        ,\n",
       "        0.        , 0.        , 0.23388318, 0.        , 0.        ,\n",
       "        0.        , 0.        , 0.        , 0.        , 0.        ,\n",
       "        0.        , 0.47980075, 0.        , 0.        , 0.47980075,\n",
       "        0.        , 0.        , 0.        , 0.        , 0.        ,\n",
       "        0.        , 0.        , 0.        , 0.        ]])"
      ]
     },
     "execution_count": 38,
     "metadata": {},
     "output_type": "execute_result"
    }
   ],
   "source": [
    "vectorize= TfidfVectorizer()\n",
    "#fitting the model and passing our sentences right away:\n",
    "xyz= vectorize.fit_transform([c1,c2,c3,c4,c5,m1,m2,m3,m4,query])\n",
    "xyz.toarray()"
   ]
  },
  {
   "cell_type": "code",
   "execution_count": 39,
   "metadata": {},
   "outputs": [
    {
     "name": "stdout",
     "output_type": "stream",
     "text": [
      "[[0.20311632]]\n",
      "[[0.20527035]]\n",
      "[[0.]]\n",
      "[[0.14940581]]\n",
      "[[0.04238244]]\n",
      "[[0.04931835]]\n",
      "[[0.05151946]]\n",
      "[[0.04084988]]\n",
      "[[0.]]\n"
     ]
    }
   ],
   "source": [
    "from sklearn.metrics.pairwise import cosine_similarity\n",
    "print(cosine_similarity(xyz[0],xyz[9]))\n",
    "print(cosine_similarity(xyz[1], xyz[9]))\n",
    "print(cosine_similarity(xyz[2], xyz[9]))\n",
    "print(cosine_similarity(xyz[3], xyz[9]))\n",
    "print(cosine_similarity(xyz[4], response[9]))\n",
    "print(cosine_similarity(xyz[5], response[9]))\n",
    "print(cosine_similarity(xyz[6], xyz[9]))\n",
    "print(cosine_similarity(xyz[7], xyz[9]))\n",
    "print(cosine_similarity(xyz[8], xyz[9]))\n"
   ]
  },
  {
   "cell_type": "code",
   "execution_count": 40,
   "metadata": {},
   "outputs": [
    {
     "name": "stdout",
     "output_type": "stream",
     "text": [
      "PRECISION [1.0, 1.0, 0.6666666666666666, 0.75, 0.8, 0.8333333333333334, 0.8571428571428571, 0.875, 0.7777777777777778]\n",
      "RECALL [0.14285714285714285, 0.2857142857142857, 0.2857142857142857, 0.42857142857142855, 0.5714285714285714, 0.7142857142857143, 0.8571428571428571, 1.0, 1.0]\n"
     ]
    }
   ],
   "source": [
    "total=9\n",
    "relevance_seq=[1,1,0,1,1,1,1,1,0]\n",
    "relevant=0\n",
    "total=0\n",
    "relevant_X=7\n",
    "precision=[]\n",
    "recall=[]\n",
    "j=1\n",
    "for i in relevance_seq:\n",
    "    if(i==1):\n",
    "        relevant+=1\n",
    "    precision.append(relevant/j)\n",
    "    recall.append(relevant/7)\n",
    "    j+=1\n",
    "print(\"PRECISION\",precision)\n",
    "print(\"RECALL\",recall)"
   ]
  }
 ],
 "metadata": {
  "kernelspec": {
   "display_name": "Python 3",
   "language": "python",
   "name": "python3"
  },
  "language_info": {
   "codemirror_mode": {
    "name": "ipython",
    "version": 3
   },
   "file_extension": ".py",
   "mimetype": "text/x-python",
   "name": "python",
   "nbconvert_exporter": "python",
   "pygments_lexer": "ipython3",
   "version": "3.8.3"
  }
 },
 "nbformat": 4,
 "nbformat_minor": 4
}
