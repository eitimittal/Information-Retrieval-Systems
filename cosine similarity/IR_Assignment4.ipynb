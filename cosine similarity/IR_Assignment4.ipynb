{
 "cells": [
  {
   "cell_type": "code",
   "execution_count": 2,
   "metadata": {},
   "outputs": [],
   "source": [
    "#EITI MITTAL\n",
    "#181B089\n",
    "import pandas as pd\n",
    "import numpy as np"
   ]
  },
  {
   "cell_type": "code",
   "execution_count": 3,
   "metadata": {},
   "outputs": [],
   "source": [
    "Q= \"gold silver truck\"\n",
    "D1= \"Shipment of gold damaged in a fire\"\n",
    "D2= \"Delivery of silver arrived in a silver truck\"\n",
    "D3= \"Shipment of gold arrived in a truck\"\n",
    "\n"
   ]
  },
  {
   "cell_type": "code",
   "execution_count": 4,
   "metadata": {},
   "outputs": [
    {
     "data": {
      "text/plain": [
       "['Shipment', 'of', 'gold', 'damaged', 'in', 'a', 'fire']"
      ]
     },
     "execution_count": 4,
     "metadata": {},
     "output_type": "execute_result"
    }
   ],
   "source": [
    "bow1 = D1.split(\" \")\n",
    "bow2 = D2.split(\" \")\n",
    "bow3 = D3.split(\" \")\n",
    "bowQ = Q.split(\" \")\n",
    "bow1"
   ]
  },
  {
   "cell_type": "code",
   "execution_count": 5,
   "metadata": {},
   "outputs": [
    {
     "name": "stdout",
     "output_type": "stream",
     "text": [
      "{'in', 'Shipment', 'arrived', 'a', 'silver', 'fire', 'damaged', 'of', 'truck', 'Delivery', 'gold'}\n"
     ]
    }
   ],
   "source": [
    "wordSet = set(bow1).union(set(bow2),set(bow3),set(bowQ))\n",
    "print(wordSet)"
   ]
  },
  {
   "cell_type": "code",
   "execution_count": 37,
   "metadata": {},
   "outputs": [
    {
     "name": "stdout",
     "output_type": "stream",
     "text": [
      "{'in': 0, 'Shipment': 0, 'arrived': 0, 'a': 0, 'silver': 0, 'fire': 0, 'damaged': 0, 'of': 0, 'truck': 0, 'Delivery': 0, 'gold': 0}\n"
     ]
    }
   ],
   "source": [
    "Dict1 = dict.fromkeys(wordSet, 0) \n",
    "Dict2 = dict.fromkeys(wordSet, 0)\n",
    "Dict3 = dict.fromkeys(wordSet, 0) \n",
    "DictQ = dict.fromkeys(wordSet, 0)\n",
    "print(Dict1)\n"
   ]
  },
  {
   "cell_type": "code",
   "execution_count": 38,
   "metadata": {},
   "outputs": [
    {
     "data": {
      "text/html": [
       "<div>\n",
       "<style scoped>\n",
       "    .dataframe tbody tr th:only-of-type {\n",
       "        vertical-align: middle;\n",
       "    }\n",
       "\n",
       "    .dataframe tbody tr th {\n",
       "        vertical-align: top;\n",
       "    }\n",
       "\n",
       "    .dataframe thead th {\n",
       "        text-align: right;\n",
       "    }\n",
       "</style>\n",
       "<table border=\"1\" class=\"dataframe\">\n",
       "  <thead>\n",
       "    <tr style=\"text-align: right;\">\n",
       "      <th></th>\n",
       "      <th>in</th>\n",
       "      <th>Shipment</th>\n",
       "      <th>arrived</th>\n",
       "      <th>a</th>\n",
       "      <th>silver</th>\n",
       "      <th>fire</th>\n",
       "      <th>damaged</th>\n",
       "      <th>of</th>\n",
       "      <th>truck</th>\n",
       "      <th>Delivery</th>\n",
       "      <th>gold</th>\n",
       "    </tr>\n",
       "  </thead>\n",
       "  <tbody>\n",
       "    <tr>\n",
       "      <th>0</th>\n",
       "      <td>1</td>\n",
       "      <td>1</td>\n",
       "      <td>0</td>\n",
       "      <td>1</td>\n",
       "      <td>0</td>\n",
       "      <td>1</td>\n",
       "      <td>1</td>\n",
       "      <td>1</td>\n",
       "      <td>0</td>\n",
       "      <td>0</td>\n",
       "      <td>1</td>\n",
       "    </tr>\n",
       "    <tr>\n",
       "      <th>1</th>\n",
       "      <td>1</td>\n",
       "      <td>0</td>\n",
       "      <td>1</td>\n",
       "      <td>1</td>\n",
       "      <td>2</td>\n",
       "      <td>0</td>\n",
       "      <td>0</td>\n",
       "      <td>1</td>\n",
       "      <td>1</td>\n",
       "      <td>1</td>\n",
       "      <td>0</td>\n",
       "    </tr>\n",
       "    <tr>\n",
       "      <th>2</th>\n",
       "      <td>1</td>\n",
       "      <td>1</td>\n",
       "      <td>1</td>\n",
       "      <td>1</td>\n",
       "      <td>0</td>\n",
       "      <td>0</td>\n",
       "      <td>0</td>\n",
       "      <td>1</td>\n",
       "      <td>1</td>\n",
       "      <td>0</td>\n",
       "      <td>1</td>\n",
       "    </tr>\n",
       "    <tr>\n",
       "      <th>3</th>\n",
       "      <td>0</td>\n",
       "      <td>0</td>\n",
       "      <td>0</td>\n",
       "      <td>0</td>\n",
       "      <td>1</td>\n",
       "      <td>0</td>\n",
       "      <td>0</td>\n",
       "      <td>0</td>\n",
       "      <td>1</td>\n",
       "      <td>0</td>\n",
       "      <td>1</td>\n",
       "    </tr>\n",
       "  </tbody>\n",
       "</table>\n",
       "</div>"
      ],
      "text/plain": [
       "   in  Shipment  arrived  a  silver  fire  damaged  of  truck  Delivery  gold\n",
       "0   1         1        0  1       0     1        1   1      0         0     1\n",
       "1   1         0        1  1       2     0        0   1      1         1     0\n",
       "2   1         1        1  1       0     0        0   1      1         0     1\n",
       "3   0         0        0  0       1     0        0   0      1         0     1"
      ]
     },
     "execution_count": 38,
     "metadata": {},
     "output_type": "execute_result"
    }
   ],
   "source": [
    "for word in bow1:\n",
    "    Dict1[word]+=1\n",
    "    \n",
    "for word in bow2:\n",
    "    Dict2[word]+=1\n",
    "    \n",
    "for word in bow3:\n",
    "    Dict3[word]+=1\n",
    "\n",
    "for word in bowQ:\n",
    "    DictQ[word]+=1\n",
    "\n",
    "pd.DataFrame([Dict1, Dict2, Dict3,DictQ]).fillna(0)\n"
   ]
  },
  {
   "cell_type": "code",
   "execution_count": 39,
   "metadata": {},
   "outputs": [],
   "source": [
    "def computeTF(Dict, bow):\n",
    "    tfDict = {}\n",
    "    bowCount = len(bow)\n",
    "    for word, count in Dict.items():\n",
    "        tfDict[word] = count/float(bowCount)\n",
    "    return tfDict\n"
   ]
  },
  {
   "cell_type": "code",
   "execution_count": 40,
   "metadata": {},
   "outputs": [
    {
     "name": "stdout",
     "output_type": "stream",
     "text": [
      "{'in': 0.14285714285714285, 'Shipment': 0.14285714285714285, 'arrived': 0.0, 'a': 0.14285714285714285, 'silver': 0.0, 'fire': 0.14285714285714285, 'damaged': 0.14285714285714285, 'of': 0.14285714285714285, 'truck': 0.0, 'Delivery': 0.0, 'gold': 0.14285714285714285}\n"
     ]
    }
   ],
   "source": [
    "tfBow1 = computeTF(Dict1, bow1)\n",
    "tfBow2 = computeTF(Dict2, bow2)\n",
    "tfBow3 = computeTF(Dict3, bow3)\n",
    "tfBowQ = computeTF(DictQ, bowQ)\n",
    "print(tfBow1)"
   ]
  },
  {
   "cell_type": "code",
   "execution_count": 41,
   "metadata": {},
   "outputs": [],
   "source": [
    "def computeIDF(docList):\n",
    "    import math\n",
    "    #docList=list(docListx)\n",
    "    #print (docList)\n",
    "    idfDict = {}\n",
    "    N = len(docList)\n",
    "    \n",
    "    idfDict = dict.fromkeys(docList[0].keys(), 0)\n",
    "    for doc in docList:\n",
    "        for word, val in doc.items():\n",
    "            if val > 0:\n",
    "                idfDict[word] += 1\n",
    "\n",
    "    for word, val in idfDict.items():\n",
    "        idfDict[word] = math.log10(N / float(val))\n",
    "        \n",
    "    return idfDict"
   ]
  },
  {
   "cell_type": "code",
   "execution_count": 42,
   "metadata": {},
   "outputs": [
    {
     "name": "stdout",
     "output_type": "stream",
     "text": [
      "{'in': 0.12493873660829993, 'Shipment': 0.3010299956639812, 'arrived': 0.3010299956639812, 'a': 0.12493873660829993, 'silver': 0.3010299956639812, 'fire': 0.6020599913279624, 'damaged': 0.6020599913279624, 'of': 0.12493873660829993, 'truck': 0.12493873660829993, 'Delivery': 0.6020599913279624, 'gold': 0.12493873660829993}\n"
     ]
    }
   ],
   "source": [
    "idfs = computeIDF([Dict1, Dict2, Dict3,DictQ])\n",
    "print(idfs)"
   ]
  },
  {
   "cell_type": "code",
   "execution_count": 43,
   "metadata": {},
   "outputs": [],
   "source": [
    "def computeTFIDF(tfBow, idfs):\n",
    "    tfidf = {}\n",
    "    for word, val in tfBow.items():\n",
    "        tfidf[word] = val*idfs[word]\n",
    "    return tfidf"
   ]
  },
  {
   "cell_type": "code",
   "execution_count": 68,
   "metadata": {},
   "outputs": [
    {
     "data": {
      "text/html": [
       "<div>\n",
       "<style scoped>\n",
       "    .dataframe tbody tr th:only-of-type {\n",
       "        vertical-align: middle;\n",
       "    }\n",
       "\n",
       "    .dataframe tbody tr th {\n",
       "        vertical-align: top;\n",
       "    }\n",
       "\n",
       "    .dataframe thead th {\n",
       "        text-align: right;\n",
       "    }\n",
       "</style>\n",
       "<table border=\"1\" class=\"dataframe\">\n",
       "  <thead>\n",
       "    <tr style=\"text-align: right;\">\n",
       "      <th></th>\n",
       "      <th>in</th>\n",
       "      <th>Shipment</th>\n",
       "      <th>arrived</th>\n",
       "      <th>a</th>\n",
       "      <th>silver</th>\n",
       "      <th>fire</th>\n",
       "      <th>damaged</th>\n",
       "      <th>of</th>\n",
       "      <th>truck</th>\n",
       "      <th>Delivery</th>\n",
       "      <th>gold</th>\n",
       "    </tr>\n",
       "  </thead>\n",
       "  <tbody>\n",
       "    <tr>\n",
       "      <th>D1</th>\n",
       "      <td>0.017848</td>\n",
       "      <td>0.043004</td>\n",
       "      <td>0.000000</td>\n",
       "      <td>0.017848</td>\n",
       "      <td>0.000000</td>\n",
       "      <td>0.086009</td>\n",
       "      <td>0.086009</td>\n",
       "      <td>0.017848</td>\n",
       "      <td>0.000000</td>\n",
       "      <td>0.000000</td>\n",
       "      <td>0.017848</td>\n",
       "    </tr>\n",
       "    <tr>\n",
       "      <th>D2</th>\n",
       "      <td>0.015617</td>\n",
       "      <td>0.000000</td>\n",
       "      <td>0.037629</td>\n",
       "      <td>0.015617</td>\n",
       "      <td>0.075257</td>\n",
       "      <td>0.000000</td>\n",
       "      <td>0.000000</td>\n",
       "      <td>0.015617</td>\n",
       "      <td>0.015617</td>\n",
       "      <td>0.075257</td>\n",
       "      <td>0.000000</td>\n",
       "    </tr>\n",
       "    <tr>\n",
       "      <th>D3</th>\n",
       "      <td>0.017848</td>\n",
       "      <td>0.043004</td>\n",
       "      <td>0.043004</td>\n",
       "      <td>0.017848</td>\n",
       "      <td>0.000000</td>\n",
       "      <td>0.000000</td>\n",
       "      <td>0.000000</td>\n",
       "      <td>0.017848</td>\n",
       "      <td>0.017848</td>\n",
       "      <td>0.000000</td>\n",
       "      <td>0.017848</td>\n",
       "    </tr>\n",
       "    <tr>\n",
       "      <th>Query</th>\n",
       "      <td>0.000000</td>\n",
       "      <td>0.000000</td>\n",
       "      <td>0.000000</td>\n",
       "      <td>0.000000</td>\n",
       "      <td>0.100343</td>\n",
       "      <td>0.000000</td>\n",
       "      <td>0.000000</td>\n",
       "      <td>0.000000</td>\n",
       "      <td>0.041646</td>\n",
       "      <td>0.000000</td>\n",
       "      <td>0.041646</td>\n",
       "    </tr>\n",
       "  </tbody>\n",
       "</table>\n",
       "</div>"
      ],
      "text/plain": [
       "             in  Shipment   arrived         a    silver      fire   damaged  \\\n",
       "D1     0.017848  0.043004  0.000000  0.017848  0.000000  0.086009  0.086009   \n",
       "D2     0.015617  0.000000  0.037629  0.015617  0.075257  0.000000  0.000000   \n",
       "D3     0.017848  0.043004  0.043004  0.017848  0.000000  0.000000  0.000000   \n",
       "Query  0.000000  0.000000  0.000000  0.000000  0.100343  0.000000  0.000000   \n",
       "\n",
       "             of     truck  Delivery      gold  \n",
       "D1     0.017848  0.000000  0.000000  0.017848  \n",
       "D2     0.015617  0.015617  0.075257  0.000000  \n",
       "D3     0.017848  0.017848  0.000000  0.017848  \n",
       "Query  0.000000  0.041646  0.000000  0.041646  "
      ]
     },
     "execution_count": 68,
     "metadata": {},
     "output_type": "execute_result"
    }
   ],
   "source": [
    "tfidfBow1 = computeTFIDF(tfBow1, idfs)\n",
    "tfidfBow2 = computeTFIDF(tfBow2, idfs)\n",
    "tfidfBow3 = computeTFIDF(tfBow3, idfs)\n",
    "tfidfBowQ = computeTFIDF(tfBowQ, idfs)\n",
    "data=pd.DataFrame([tfidfBow1,tfidfBow2,tfidfBow3,tfidfBowQ])\n",
    "data.index=['D1','D2','D3','Query']\n",
    "data\n",
    "\n"
   ]
  },
  {
   "cell_type": "code",
   "execution_count": 140,
   "metadata": {},
   "outputs": [],
   "source": [
    "\n",
    "vectorQ=list(tfidfBowQ.values())\n",
    "vector1=list(tfidfBow1.values())\n",
    "vector2=list(tfidfBow2.values())\n",
    "vector3=list(tfidfBow3.values())\n"
   ]
  },
  {
   "cell_type": "code",
   "execution_count": 148,
   "metadata": {},
   "outputs": [],
   "source": [
    "import math\n",
    "def cosine_similarity(vector1,vector2):\n",
    "  dot=0\n",
    "  # Calculate numerator of cosine similarity\n",
    "  for i in range(len(vector1)):\n",
    "        dot =dot+ (vector1[i] * vector2[i])\n",
    "        \n",
    "  # Normalize the first vector\n",
    "  sum_vector1 = 0.0\n",
    "  for i in range(len(vector1)):\n",
    "        sum_vector1 += sum_vector1 + (vector1[i]*vector1[i])\n",
    "  norm_vector1 = math.sqrt(sum_vector1)\n",
    "  \n",
    "  # Normalize the second vector\n",
    "  sum_vector2 = 0.0\n",
    "  for i in range(len(vector2)):\n",
    "    sum_vector2 += sum_vector2 + (vector2[i]*vector2[i] )\n",
    "  norm_vector2 = math.sqrt(sum_vector2)\n",
    "  \n",
    "  return (dot/(norm_vector1*norm_vector2))"
   ]
  },
  {
   "cell_type": "code",
   "execution_count": 157,
   "metadata": {},
   "outputs": [
    {
     "name": "stdout",
     "output_type": "stream",
     "text": [
      "D1: 0.0007113777145020717\n"
     ]
    }
   ],
   "source": [
    "print('D1:',cosine_similarity(vector1,vectorQ))"
   ]
  },
  {
   "cell_type": "code",
   "execution_count": 158,
   "metadata": {},
   "outputs": [
    {
     "name": "stdout",
     "output_type": "stream",
     "text": [
      "D2: 0.010048458213544857\n"
     ]
    }
   ],
   "source": [
    "print('D2:',cosine_similarity(vector2,vectorQ))"
   ]
  },
  {
   "cell_type": "code",
   "execution_count": 160,
   "metadata": {},
   "outputs": [
    {
     "name": "stdout",
     "output_type": "stream",
     "text": [
      "D3: 0.0013744283558824182\n"
     ]
    }
   ],
   "source": [
    "print('D3:',cosine_similarity(vector3,vectorQ))"
   ]
  },
  {
   "cell_type": "code",
   "execution_count": null,
   "metadata": {},
   "outputs": [],
   "source": []
  }
 ],
 "metadata": {
  "kernelspec": {
   "display_name": "Python 3",
   "language": "python",
   "name": "python3"
  },
  "language_info": {
   "codemirror_mode": {
    "name": "ipython",
    "version": 3
   },
   "file_extension": ".py",
   "mimetype": "text/x-python",
   "name": "python",
   "nbconvert_exporter": "python",
   "pygments_lexer": "ipython3",
   "version": "3.8.3"
  }
 },
 "nbformat": 4,
 "nbformat_minor": 4
}
