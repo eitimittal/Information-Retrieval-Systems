{
 "cells": [
  {
   "cell_type": "code",
   "execution_count": 30,
   "metadata": {},
   "outputs": [],
   "source": [
    "from sklearn.feature_extraction.text import TfidfVectorizer "
   ]
  },
  {
   "cell_type": "code",
   "execution_count": 31,
   "metadata": {},
   "outputs": [],
   "source": [
    "d0= \"Shipment of gold damaged in a fire\"\n",
    "d1= \"Delivery of silver arrived in a silver truck\"\n",
    "d2= \"Shipment of gold arrived in a truck\"\n",
    "Q= \"gold silver truck\"\n"
   ]
  },
  {
   "cell_type": "code",
   "execution_count": 41,
   "metadata": {},
   "outputs": [],
   "source": [
    "# merge documents into a single corpus \n",
    "string = [d0, d1, d2,Q] "
   ]
  },
  {
   "cell_type": "markdown",
   "metadata": {},
   "source": [
    "The CountVectorizer in its default configuration, tokenize the given document or raw text (It will take only terms which have 2 or more characters in it) and count the word occurrences."
   ]
  },
  {
   "cell_type": "code",
   "execution_count": 42,
   "metadata": {},
   "outputs": [],
   "source": [
    "# create object \n",
    "tfidf = TfidfVectorizer()"
   ]
  },
  {
   "cell_type": "markdown",
   "metadata": {},
   "source": [
    "(fit_transform() is a shorthand for fit() and then transform()). So, the result is"
   ]
  },
  {
   "cell_type": "markdown",
   "metadata": {},
   "source": [
    "The output of a CountVectorizer().fit_transform() is a sparse matrix. It means that it will only store the non-zero elements of a matrix. When you do print(X), only the non-zero entries are displayed as you observe in the image."
   ]
  },
  {
   "cell_type": "markdown",
   "metadata": {},
   "source": [
    "Step1 - Collect all different terms from all the documents present in fit().\n",
    "Step2 - In the transform(), count the number of terms in each document which were present in the fit() output it in the term-frequency matrix."
   ]
  },
  {
   "cell_type": "code",
   "execution_count": 43,
   "metadata": {},
   "outputs": [],
   "source": [
    "# get tf-df values \n",
    "result = tfidf.fit_transform(string)\n"
   ]
  },
  {
   "cell_type": "code",
   "execution_count": 44,
   "metadata": {},
   "outputs": [
    {
     "name": "stdout",
     "output_type": "stream",
     "text": [
      "\n",
      "idf values:\n",
      "arrived : 1.5108256237659907\n",
      "damaged : 1.916290731874155\n",
      "delivery : 1.916290731874155\n",
      "fire : 1.916290731874155\n",
      "gold : 1.2231435513142097\n",
      "in : 1.2231435513142097\n",
      "of : 1.2231435513142097\n",
      "shipment : 1.5108256237659907\n",
      "silver : 1.5108256237659907\n",
      "truck : 1.2231435513142097\n"
     ]
    }
   ],
   "source": [
    "# get idf values \n",
    "print('\\nidf values:') \n",
    "for ele1, ele2 in zip(tfidf.get_feature_names(), tfidf.idf_): \n",
    "    print(ele1, ':', ele2) "
   ]
  },
  {
   "cell_type": "code",
   "execution_count": 45,
   "metadata": {},
   "outputs": [
    {
     "name": "stdout",
     "output_type": "stream",
     "text": [
      "\n",
      "Word indexes:\n",
      "{'shipment': 7, 'of': 6, 'gold': 4, 'damaged': 1, 'in': 5, 'fire': 3, 'delivery': 2, 'silver': 8, 'arrived': 0, 'truck': 9}\n"
     ]
    }
   ],
   "source": [
    "# get indexing \n",
    "print('\\nWord indexes:') \n",
    "print(tfidf.vocabulary_)"
   ]
  },
  {
   "cell_type": "code",
   "execution_count": 46,
   "metadata": {},
   "outputs": [
    {
     "name": "stdout",
     "output_type": "stream",
     "text": [
      "\n",
      "tf-idf values in matrix form:\n",
      "[[0.         0.51005648 0.         0.51005648 0.32556244 0.32556244\n",
      "  0.32556244 0.40213439 0.         0.        ]\n",
      " [0.34149269 0.         0.43314018 0.         0.         0.27646777\n",
      "  0.27646777 0.         0.68298539 0.27646777]\n",
      " [0.46515557 0.         0.         0.         0.37658352 0.37658352\n",
      "  0.37658352 0.46515557 0.         0.37658352]\n",
      " [0.         0.         0.         0.         0.53256952 0.\n",
      "  0.         0.         0.65782931 0.53256952]]\n"
     ]
    }
   ],
   "source": [
    "# in matrix form \n",
    "print('\\ntf-idf values in matrix form:') \n",
    "result=(result.toarray()) \n",
    "print(result)"
   ]
  },
  {
   "cell_type": "code",
   "execution_count": 38,
   "metadata": {},
   "outputs": [],
   "source": [
    "vector1=result[0]\n",
    "vector2=result[1]\n",
    "vector3=result[2]\n",
    "vectorQ=result[3]"
   ]
  },
  {
   "cell_type": "code",
   "execution_count": 39,
   "metadata": {},
   "outputs": [],
   "source": [
    "import math\n",
    "def cosine_similarity(vector1,vector2):\n",
    "  dot=0\n",
    "  # Calculate numerator of cosine similarity\n",
    "  for i in range(len(vector1)):\n",
    "        dot =dot+ (vector1[i] * vector2[i])\n",
    "        \n",
    "  # Normalize the first vector\n",
    "  sum_vector1 = 0.0\n",
    "  for i in range(len(vector1)):\n",
    "        sum_vector1 += sum_vector1 + (vector1[i]*vector1[i])\n",
    "  norm_vector1 = math.sqrt(sum_vector1)\n",
    "  \n",
    "  # Normalize the second vector\n",
    "  sum_vector2 = 0.0\n",
    "  for i in range(len(vector2)):\n",
    "    sum_vector2 += sum_vector2 + (vector2[i]*vector2[i] )\n",
    "  norm_vector2 = math.sqrt(sum_vector2)\n",
    "  \n",
    "  return (dot/(norm_vector1*norm_vector2))"
   ]
  },
  {
   "cell_type": "code",
   "execution_count": 24,
   "metadata": {},
   "outputs": [
    {
     "name": "stdout",
     "output_type": "stream",
     "text": [
      "D1: 0.005720785011011222\n"
     ]
    }
   ],
   "source": [
    "print('D1:',cosine_similarity(vector1,vectorQ))"
   ]
  },
  {
   "cell_type": "code",
   "execution_count": 25,
   "metadata": {},
   "outputs": [
    {
     "name": "stdout",
     "output_type": "stream",
     "text": [
      "D2: 0.020050180581592473\n"
     ]
    }
   ],
   "source": [
    "print('D2:',cosine_similarity(vector2,vectorQ))"
   ]
  },
  {
   "cell_type": "code",
   "execution_count": 26,
   "metadata": {},
   "outputs": [
    {
     "name": "stdout",
     "output_type": "stream",
     "text": [
      "D3: 0.011463787686210598\n"
     ]
    }
   ],
   "source": [
    "print('D3:',cosine_similarity(vector3,vectorQ))"
   ]
  }
 ],
 "metadata": {
  "kernelspec": {
   "display_name": "Python 3",
   "language": "python",
   "name": "python3"
  },
  "language_info": {
   "codemirror_mode": {
    "name": "ipython",
    "version": 3
   },
   "file_extension": ".py",
   "mimetype": "text/x-python",
   "name": "python",
   "nbconvert_exporter": "python",
   "pygments_lexer": "ipython3",
   "version": "3.8.3"
  }
 },
 "nbformat": 4,
 "nbformat_minor": 4
}
